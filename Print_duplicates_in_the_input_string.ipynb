{
  "nbformat": 4,
  "nbformat_minor": 0,
  "metadata": {
    "colab": {
      "name": "Print duplicates in the input string.ipynb",
      "provenance": []
    },
    "kernelspec": {
      "name": "python3",
      "display_name": "Python 3"
    },
    "language_info": {
      "name": "python"
    }
  },
  "cells": [
    {
      "cell_type": "code",
      "execution_count": 15,
      "metadata": {
        "colab": {
          "base_uri": "https://localhost:8080/"
        },
        "id": "G5GjB_fhIPqm",
        "outputId": "25d6077f-7d17-41d1-8f02-cfce7d99c28c"
      },
      "outputs": [
        {
          "output_type": "stream",
          "name": "stdout",
          "text": [
            "['l']\n"
          ]
        }
      ],
      "source": [
        "# Print duplicates\n",
        "string=\"Hello\"\n",
        "duplicate=[]\n",
        "for i in string:\n",
        "  if string.count(i)>1:\n",
        "    if i not in duplicate:\n",
        "      duplicate.append(i)\n",
        "print(duplicate)\n",
        "\n",
        "#Time complexity: O(n)"
      ]
    },
    {
      "cell_type": "code",
      "source": [
        "#Remove duplicates\n",
        "string = 'Hello'\n",
        "str=\" \"\n",
        "for i in string:\n",
        "  if i not in str:\n",
        "    str=str+i\n",
        "    #print(str)\n",
        "print(str)"
      ],
      "metadata": {
        "colab": {
          "base_uri": "https://localhost:8080/"
        },
        "id": "PCMa30sab4Ji",
        "outputId": "796d041a-82c7-4333-cb96-1dd7717a8c64"
      },
      "execution_count": 17,
      "outputs": [
        {
          "output_type": "stream",
          "name": "stdout",
          "text": [
            " Helo\n"
          ]
        }
      ]
    },
    {
      "cell_type": "code",
      "source": [
        ""
      ],
      "metadata": {
        "id": "-9WC3s2_KVvc"
      },
      "execution_count": null,
      "outputs": []
    }
  ]
}