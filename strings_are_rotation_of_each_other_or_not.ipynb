{
  "nbformat": 4,
  "nbformat_minor": 0,
  "metadata": {
    "colab": {
      "name": "strings are rotation of each other or not.ipynb",
      "provenance": []
    },
    "kernelspec": {
      "name": "python3",
      "display_name": "Python 3"
    },
    "language_info": {
      "name": "python"
    }
  },
  "cells": [
    {
      "cell_type": "code",
      "execution_count": 10,
      "metadata": {
        "colab": {
          "base_uri": "https://localhost:8080/"
        },
        "id": "G5GjB_fhIPqm",
        "outputId": "0d0fc5a1-6a68-4afb-d128-fb67fb4b8b39"
      },
      "outputs": [
        {
          "output_type": "stream",
          "name": "stdout",
          "text": [
            "Strings are rotation of each other\n"
          ]
        }
      ],
      "source": [
        "def rotation(str1, str2):\n",
        "  size=len(str1)\n",
        "  size1=len(str2)\n",
        "  temp=''\n",
        "\n",
        "  if(size!=size1):\n",
        "    return 0\n",
        "\n",
        "  temp = str1 + str2\n",
        "  if(temp.count(str2)>0) :  #Checking for how many times the 2nd string is being repeated in temp.\n",
        "    return 1\n",
        "  else:\n",
        "    return 0\n",
        "\n",
        "str1=\"ABCD\"\n",
        "str2=\"DCBA\"\n",
        "\n",
        "if rotation(str1, str2):\n",
        "  print(\"Strings are rotation of each other\")\n",
        "else:\n",
        "  print(\"Strings are not rotation of each ohter\")"
      ]
    },
    {
      "cell_type": "code",
      "source": [
        ""
      ],
      "metadata": {
        "id": "-9WC3s2_KVvc"
      },
      "execution_count": null,
      "outputs": []
    }
  ]
}